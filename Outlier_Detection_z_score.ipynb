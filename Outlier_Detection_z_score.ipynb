{
  "nbformat": 4,
  "nbformat_minor": 0,
  "metadata": {
    "colab": {
      "name": "Outlier_Detection_z-score.ipynb",
      "provenance": [],
      "collapsed_sections": []
    },
    "kernelspec": {
      "name": "python3",
      "display_name": "Python 3"
    }
  },
  "cells": [
    {
      "cell_type": "code",
      "metadata": {
        "id": "jj1ipl4DJsAn",
        "colab_type": "code",
        "colab": {}
      },
      "source": [
        "# Import the libraries.\n",
        "import matplotlib.pyplot as plt\n",
        "import numpy as np\n",
        "import pandas as pd"
      ],
      "execution_count": 12,
      "outputs": []
    },
    {
      "cell_type": "code",
      "metadata": {
        "id": "GDpmMp3AJ764",
        "colab_type": "code",
        "colab": {}
      },
      "source": [
        "# Create 100 random values.\n",
        "mu, sigma, num = 20, 10, 100\n",
        "s = np.random.normal(mu, sigma, num)"
      ],
      "execution_count": 13,
      "outputs": []
    },
    {
      "cell_type": "code",
      "metadata": {
        "id": "7yEcLD7NKKF_",
        "colab_type": "code",
        "colab": {
          "base_uri": "https://localhost:8080/",
          "height": 357
        },
        "outputId": "37738cd2-6285-4701-fef4-677f0c2a8133"
      },
      "source": [
        "s"
      ],
      "execution_count": 14,
      "outputs": [
        {
          "output_type": "execute_result",
          "data": {
            "text/plain": [
              "array([20.21440196, 35.11095522, 26.24414658, 12.39216312, 33.14041105,\n",
              "       16.5260888 , 18.57153576, 10.89519143, 12.46609724, 13.74899783,\n",
              "       19.36579851, 15.11895244,  4.35867716, 19.52958582,  9.52326062,\n",
              "       17.31901054, 49.93245292, 19.7581203 , 30.10309595, 15.07868277,\n",
              "       18.60765583, 31.11551689, 15.89656586, 31.72776471, 18.32345048,\n",
              "       14.33444105, 32.73256313, 20.97400044, 10.95265787, 28.78983274,\n",
              "       20.63933084, 34.41892513,  7.84329233,  5.62893788, 16.60318846,\n",
              "       15.14014939, 19.18622999, 30.87244842, 29.15717421, 25.65314033,\n",
              "       17.40440365, 19.70938658, 44.31507404,  4.15880855,  9.62672808,\n",
              "       27.29531759,  1.71936571, 20.79503114, 16.32654668, 48.95071995,\n",
              "       17.62933578, 18.9186706 , 23.13156827, 25.34684363, 19.94171337,\n",
              "       -1.28637458,  4.30461817, 20.60322236, 31.9842432 , 41.23772364,\n",
              "       23.77865737, 25.28091119, 24.41740304,  9.02541752, 27.40550196,\n",
              "       14.78730255, 23.8290899 , 27.63821043, 27.89070469, 37.13032226,\n",
              "       20.12344091, 32.22345935, 14.29351531, 33.92907961,  2.73242671,\n",
              "        6.60501712, 21.78514303, 32.74746414, 12.6427283 , 14.01277358,\n",
              "        9.90420697, 23.50878337,  9.17047937, 11.64782279, 31.00638147,\n",
              "       41.18232188, -2.0641648 , 10.94019114,  8.87699079, -1.41927728,\n",
              "       13.25266183, 22.05636507, 27.11562777, 11.52501253, 14.08036656,\n",
              "        6.72505613, 21.21632126, 21.71547255, 15.52092079, 26.26014731])"
            ]
          },
          "metadata": {
            "tags": []
          },
          "execution_count": 14
        }
      ]
    },
    {
      "cell_type": "code",
      "metadata": {
        "id": "HWffG_6fKMye",
        "colab_type": "code",
        "colab": {}
      },
      "source": [
        "# Make outliers in data.\n",
        "s[7] = 150\n",
        "s[45] = -145\n",
        "s[90] = 130"
      ],
      "execution_count": 15,
      "outputs": []
    },
    {
      "cell_type": "code",
      "metadata": {
        "id": "zAXWnMyeK1iN",
        "colab_type": "code",
        "colab": {
          "base_uri": "https://localhost:8080/",
          "height": 359
        },
        "outputId": "64ae5f35-b974-4bee-8b2b-13e384def729"
      },
      "source": [
        "df = pd.DataFrame(s, columns=['Data'])\n",
        "df.head(10)"
      ],
      "execution_count": 16,
      "outputs": [
        {
          "output_type": "execute_result",
          "data": {
            "text/html": [
              "<div>\n",
              "<style scoped>\n",
              "    .dataframe tbody tr th:only-of-type {\n",
              "        vertical-align: middle;\n",
              "    }\n",
              "\n",
              "    .dataframe tbody tr th {\n",
              "        vertical-align: top;\n",
              "    }\n",
              "\n",
              "    .dataframe thead th {\n",
              "        text-align: right;\n",
              "    }\n",
              "</style>\n",
              "<table border=\"1\" class=\"dataframe\">\n",
              "  <thead>\n",
              "    <tr style=\"text-align: right;\">\n",
              "      <th></th>\n",
              "      <th>Data</th>\n",
              "    </tr>\n",
              "  </thead>\n",
              "  <tbody>\n",
              "    <tr>\n",
              "      <th>0</th>\n",
              "      <td>20.214402</td>\n",
              "    </tr>\n",
              "    <tr>\n",
              "      <th>1</th>\n",
              "      <td>35.110955</td>\n",
              "    </tr>\n",
              "    <tr>\n",
              "      <th>2</th>\n",
              "      <td>26.244147</td>\n",
              "    </tr>\n",
              "    <tr>\n",
              "      <th>3</th>\n",
              "      <td>12.392163</td>\n",
              "    </tr>\n",
              "    <tr>\n",
              "      <th>4</th>\n",
              "      <td>33.140411</td>\n",
              "    </tr>\n",
              "    <tr>\n",
              "      <th>5</th>\n",
              "      <td>16.526089</td>\n",
              "    </tr>\n",
              "    <tr>\n",
              "      <th>6</th>\n",
              "      <td>18.571536</td>\n",
              "    </tr>\n",
              "    <tr>\n",
              "      <th>7</th>\n",
              "      <td>150.000000</td>\n",
              "    </tr>\n",
              "    <tr>\n",
              "      <th>8</th>\n",
              "      <td>12.466097</td>\n",
              "    </tr>\n",
              "    <tr>\n",
              "      <th>9</th>\n",
              "      <td>13.748998</td>\n",
              "    </tr>\n",
              "  </tbody>\n",
              "</table>\n",
              "</div>"
            ],
            "text/plain": [
              "         Data\n",
              "0   20.214402\n",
              "1   35.110955\n",
              "2   26.244147\n",
              "3   12.392163\n",
              "4   33.140411\n",
              "5   16.526089\n",
              "6   18.571536\n",
              "7  150.000000\n",
              "8   12.466097\n",
              "9   13.748998"
            ]
          },
          "metadata": {
            "tags": []
          },
          "execution_count": 16
        }
      ]
    },
    {
      "cell_type": "code",
      "metadata": {
        "id": "AizAezVrK7ES",
        "colab_type": "code",
        "colab": {}
      },
      "source": [
        "for col in df.columns:\n",
        "    col_zscore = col + '_z-scored'\n",
        "    df[col_zscore] = (df[col] - df[col].mean())/df[col].std(ddof=0) # z-score"
      ],
      "execution_count": 17,
      "outputs": []
    },
    {
      "cell_type": "code",
      "metadata": {
        "id": "Gxl4YpBzLWmz",
        "colab_type": "code",
        "colab": {}
      },
      "source": [
        "threthold = 3\n",
        "df['outlier'] = (abs(df['Data_z-scored']) > threthold).astype(int)"
      ],
      "execution_count": 18,
      "outputs": []
    },
    {
      "cell_type": "code",
      "metadata": {
        "id": "rCcwzVnzLfwV",
        "colab_type": "code",
        "colab": {
          "base_uri": "https://localhost:8080/",
          "height": 359
        },
        "outputId": "ba955382-abcd-4c56-94ee-24b225659490"
      },
      "source": [
        "df.head(10)"
      ],
      "execution_count": 19,
      "outputs": [
        {
          "output_type": "execute_result",
          "data": {
            "text/html": [
              "<div>\n",
              "<style scoped>\n",
              "    .dataframe tbody tr th:only-of-type {\n",
              "        vertical-align: middle;\n",
              "    }\n",
              "\n",
              "    .dataframe tbody tr th {\n",
              "        vertical-align: top;\n",
              "    }\n",
              "\n",
              "    .dataframe thead th {\n",
              "        text-align: right;\n",
              "    }\n",
              "</style>\n",
              "<table border=\"1\" class=\"dataframe\">\n",
              "  <thead>\n",
              "    <tr style=\"text-align: right;\">\n",
              "      <th></th>\n",
              "      <th>Data</th>\n",
              "      <th>Data_z-scored</th>\n",
              "      <th>outlier</th>\n",
              "    </tr>\n",
              "  </thead>\n",
              "  <tbody>\n",
              "    <tr>\n",
              "      <th>0</th>\n",
              "      <td>20.214402</td>\n",
              "      <td>-0.021856</td>\n",
              "      <td>0</td>\n",
              "    </tr>\n",
              "    <tr>\n",
              "      <th>1</th>\n",
              "      <td>35.110955</td>\n",
              "      <td>0.552114</td>\n",
              "      <td>0</td>\n",
              "    </tr>\n",
              "    <tr>\n",
              "      <th>2</th>\n",
              "      <td>26.244147</td>\n",
              "      <td>0.210472</td>\n",
              "      <td>0</td>\n",
              "    </tr>\n",
              "    <tr>\n",
              "      <th>3</th>\n",
              "      <td>12.392163</td>\n",
              "      <td>-0.323250</td>\n",
              "      <td>0</td>\n",
              "    </tr>\n",
              "    <tr>\n",
              "      <th>4</th>\n",
              "      <td>33.140411</td>\n",
              "      <td>0.476188</td>\n",
              "      <td>0</td>\n",
              "    </tr>\n",
              "    <tr>\n",
              "      <th>5</th>\n",
              "      <td>16.526089</td>\n",
              "      <td>-0.163969</td>\n",
              "      <td>0</td>\n",
              "    </tr>\n",
              "    <tr>\n",
              "      <th>6</th>\n",
              "      <td>18.571536</td>\n",
              "      <td>-0.085157</td>\n",
              "      <td>0</td>\n",
              "    </tr>\n",
              "    <tr>\n",
              "      <th>7</th>\n",
              "      <td>150.000000</td>\n",
              "      <td>4.978837</td>\n",
              "      <td>1</td>\n",
              "    </tr>\n",
              "    <tr>\n",
              "      <th>8</th>\n",
              "      <td>12.466097</td>\n",
              "      <td>-0.320402</td>\n",
              "      <td>0</td>\n",
              "    </tr>\n",
              "    <tr>\n",
              "      <th>9</th>\n",
              "      <td>13.748998</td>\n",
              "      <td>-0.270971</td>\n",
              "      <td>0</td>\n",
              "    </tr>\n",
              "  </tbody>\n",
              "</table>\n",
              "</div>"
            ],
            "text/plain": [
              "         Data  Data_z-scored  outlier\n",
              "0   20.214402      -0.021856        0\n",
              "1   35.110955       0.552114        0\n",
              "2   26.244147       0.210472        0\n",
              "3   12.392163      -0.323250        0\n",
              "4   33.140411       0.476188        0\n",
              "5   16.526089      -0.163969        0\n",
              "6   18.571536      -0.085157        0\n",
              "7  150.000000       4.978837        1\n",
              "8   12.466097      -0.320402        0\n",
              "9   13.748998      -0.270971        0"
            ]
          },
          "metadata": {
            "tags": []
          },
          "execution_count": 19
        }
      ]
    },
    {
      "cell_type": "code",
      "metadata": {
        "id": "sHiJbsPuLmA_",
        "colab_type": "code",
        "colab": {
          "base_uri": "https://localhost:8080/",
          "height": 514
        },
        "outputId": "021d7b06-aae5-4808-f4f2-65821b9eeb7e"
      },
      "source": [
        "df.tail(15)"
      ],
      "execution_count": 20,
      "outputs": [
        {
          "output_type": "execute_result",
          "data": {
            "text/html": [
              "<div>\n",
              "<style scoped>\n",
              "    .dataframe tbody tr th:only-of-type {\n",
              "        vertical-align: middle;\n",
              "    }\n",
              "\n",
              "    .dataframe tbody tr th {\n",
              "        vertical-align: top;\n",
              "    }\n",
              "\n",
              "    .dataframe thead th {\n",
              "        text-align: right;\n",
              "    }\n",
              "</style>\n",
              "<table border=\"1\" class=\"dataframe\">\n",
              "  <thead>\n",
              "    <tr style=\"text-align: right;\">\n",
              "      <th></th>\n",
              "      <th>Data</th>\n",
              "      <th>Data_z-scored</th>\n",
              "      <th>outlier</th>\n",
              "    </tr>\n",
              "  </thead>\n",
              "  <tbody>\n",
              "    <tr>\n",
              "      <th>85</th>\n",
              "      <td>41.182322</td>\n",
              "      <td>0.786046</td>\n",
              "      <td>0</td>\n",
              "    </tr>\n",
              "    <tr>\n",
              "      <th>86</th>\n",
              "      <td>-2.064165</td>\n",
              "      <td>-0.880259</td>\n",
              "      <td>0</td>\n",
              "    </tr>\n",
              "    <tr>\n",
              "      <th>87</th>\n",
              "      <td>10.940191</td>\n",
              "      <td>-0.379195</td>\n",
              "      <td>0</td>\n",
              "    </tr>\n",
              "    <tr>\n",
              "      <th>88</th>\n",
              "      <td>8.876991</td>\n",
              "      <td>-0.458691</td>\n",
              "      <td>0</td>\n",
              "    </tr>\n",
              "    <tr>\n",
              "      <th>89</th>\n",
              "      <td>-1.419277</td>\n",
              "      <td>-0.855411</td>\n",
              "      <td>0</td>\n",
              "    </tr>\n",
              "    <tr>\n",
              "      <th>90</th>\n",
              "      <td>130.000000</td>\n",
              "      <td>4.208228</td>\n",
              "      <td>1</td>\n",
              "    </tr>\n",
              "    <tr>\n",
              "      <th>91</th>\n",
              "      <td>22.056365</td>\n",
              "      <td>0.049115</td>\n",
              "      <td>0</td>\n",
              "    </tr>\n",
              "    <tr>\n",
              "      <th>92</th>\n",
              "      <td>27.115628</td>\n",
              "      <td>0.244051</td>\n",
              "      <td>0</td>\n",
              "    </tr>\n",
              "    <tr>\n",
              "      <th>93</th>\n",
              "      <td>11.525013</td>\n",
              "      <td>-0.356662</td>\n",
              "      <td>0</td>\n",
              "    </tr>\n",
              "    <tr>\n",
              "      <th>94</th>\n",
              "      <td>14.080367</td>\n",
              "      <td>-0.258203</td>\n",
              "      <td>0</td>\n",
              "    </tr>\n",
              "    <tr>\n",
              "      <th>95</th>\n",
              "      <td>6.725056</td>\n",
              "      <td>-0.541606</td>\n",
              "      <td>0</td>\n",
              "    </tr>\n",
              "    <tr>\n",
              "      <th>96</th>\n",
              "      <td>21.216321</td>\n",
              "      <td>0.016748</td>\n",
              "      <td>0</td>\n",
              "    </tr>\n",
              "    <tr>\n",
              "      <th>97</th>\n",
              "      <td>21.715473</td>\n",
              "      <td>0.035981</td>\n",
              "      <td>0</td>\n",
              "    </tr>\n",
              "    <tr>\n",
              "      <th>98</th>\n",
              "      <td>15.520921</td>\n",
              "      <td>-0.202698</td>\n",
              "      <td>0</td>\n",
              "    </tr>\n",
              "    <tr>\n",
              "      <th>99</th>\n",
              "      <td>26.260147</td>\n",
              "      <td>0.211089</td>\n",
              "      <td>0</td>\n",
              "    </tr>\n",
              "  </tbody>\n",
              "</table>\n",
              "</div>"
            ],
            "text/plain": [
              "          Data  Data_z-scored  outlier\n",
              "85   41.182322       0.786046        0\n",
              "86   -2.064165      -0.880259        0\n",
              "87   10.940191      -0.379195        0\n",
              "88    8.876991      -0.458691        0\n",
              "89   -1.419277      -0.855411        0\n",
              "90  130.000000       4.208228        1\n",
              "91   22.056365       0.049115        0\n",
              "92   27.115628       0.244051        0\n",
              "93   11.525013      -0.356662        0\n",
              "94   14.080367      -0.258203        0\n",
              "95    6.725056      -0.541606        0\n",
              "96   21.216321       0.016748        0\n",
              "97   21.715473       0.035981        0\n",
              "98   15.520921      -0.202698        0\n",
              "99   26.260147       0.211089        0"
            ]
          },
          "metadata": {
            "tags": []
          },
          "execution_count": 20
        }
      ]
    },
    {
      "cell_type": "code",
      "metadata": {
        "id": "E9gAuIoLMiIO",
        "colab_type": "code",
        "colab": {
          "base_uri": "https://localhost:8080/",
          "height": 68
        },
        "outputId": "ef02b621-3985-40b2-ee97-1d433f0faaa9"
      },
      "source": [
        "df.outlier.value_counts()"
      ],
      "execution_count": 21,
      "outputs": [
        {
          "output_type": "execute_result",
          "data": {
            "text/plain": [
              "0    97\n",
              "1     3\n",
              "Name: outlier, dtype: int64"
            ]
          },
          "metadata": {
            "tags": []
          },
          "execution_count": 21
        }
      ]
    },
    {
      "cell_type": "code",
      "metadata": {
        "id": "wWxFOhc8MFcy",
        "colab_type": "code",
        "colab": {
          "base_uri": "https://localhost:8080/",
          "height": 34
        },
        "outputId": "a92d2fbf-f9d8-47f7-99f6-b07f24531593"
      },
      "source": [
        "print (\"Number of outliers in data = \" + str(df.outlier.value_counts()[1]))"
      ],
      "execution_count": 22,
      "outputs": [
        {
          "output_type": "stream",
          "text": [
            "Number of outliers in data = 3\n"
          ],
          "name": "stdout"
        }
      ]
    },
    {
      "cell_type": "code",
      "metadata": {
        "id": "147vI-UgMkdm",
        "colab_type": "code",
        "colab": {}
      },
      "source": [
        ""
      ],
      "execution_count": 22,
      "outputs": []
    }
  ]
}