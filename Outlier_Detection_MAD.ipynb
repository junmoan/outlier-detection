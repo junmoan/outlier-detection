{
  "nbformat": 4,
  "nbformat_minor": 0,
  "metadata": {
    "colab": {
      "name": "Outlier_Detection_MAD.ipynb",
      "provenance": [],
      "collapsed_sections": []
    },
    "kernelspec": {
      "name": "python3",
      "display_name": "Python 3"
    }
  },
  "cells": [
    {
      "cell_type": "code",
      "metadata": {
        "id": "jj1ipl4DJsAn",
        "colab_type": "code",
        "colab": {}
      },
      "source": [
        "# Import the libraries.\n",
        "import matplotlib.pyplot as plt\n",
        "import numpy as np\n",
        "import pandas as pd"
      ],
      "execution_count": 59,
      "outputs": []
    },
    {
      "cell_type": "code",
      "metadata": {
        "id": "GDpmMp3AJ764",
        "colab_type": "code",
        "colab": {}
      },
      "source": [
        "# Create 100 random values.\n",
        "mu, sigma, num = 20, 10, 100\n",
        "s = np.random.normal(mu, sigma, num)"
      ],
      "execution_count": 60,
      "outputs": []
    },
    {
      "cell_type": "code",
      "metadata": {
        "id": "7yEcLD7NKKF_",
        "colab_type": "code",
        "colab": {
          "base_uri": "https://localhost:8080/",
          "height": 357
        },
        "outputId": "679bc2a6-eabd-4912-b542-3c389efb35b7"
      },
      "source": [
        "s"
      ],
      "execution_count": 61,
      "outputs": [
        {
          "output_type": "execute_result",
          "data": {
            "text/plain": [
              "array([17.43141356, 25.89084088, 19.29076344, 26.37191946,  4.71904411,\n",
              "       33.93369473, 19.72075161, 21.85237728, 24.97244387, 20.53209747,\n",
              "       27.20329268, 22.41580262, 25.95856987, 24.90497887, 22.86286685,\n",
              "       30.73367125, 35.07242597, 32.98306997, 11.37076361, 22.71180637,\n",
              "       13.35603892, 38.41078126, 20.1858864 , 13.00662575, 22.59259533,\n",
              "       26.86505787, 36.30353503, 21.01445301, 26.379212  , 25.27538419,\n",
              "       10.70883822, 29.68206169, 17.09649912, 22.73150297, 18.69417636,\n",
              "       19.74914467, 32.34413413,  9.45950314,  7.84279454, 30.81171374,\n",
              "       17.8985629 , 31.06449979, 26.30244937, 29.75891255, 34.420875  ,\n",
              "       10.51164091, -3.82821409, 19.2699863 , 28.09785855, 10.50604566,\n",
              "       12.73724368, 31.82851244, 32.96985103, 25.45029058,  9.43034429,\n",
              "       25.47597317, 21.79260785, 13.24881181, -3.45996511, 12.78017169,\n",
              "       12.5274905 , 32.82587374,  4.5765159 , 36.40058079, 25.54825813,\n",
              "       21.47576279, 10.11471202, 36.05248689, 24.91961787, 19.39806421,\n",
              "       26.09540799, 29.75967057, 22.13300032, 25.38297256, 32.45494608,\n",
              "        5.74509267, 39.75812664,  9.29826592, 21.06138766, 12.6544647 ,\n",
              "       30.74976353, 18.22533415,  6.74877625, 11.95238159, 30.93704084,\n",
              "       13.29140899, 32.12223303, 18.20174659, 10.48263774, 34.92832003,\n",
              "        1.23249537, 29.02255978, 26.88044897,  4.29172701,  8.9353167 ,\n",
              "       22.60659239, 15.45527227, 18.95337271, 16.59029409,  9.60226568])"
            ]
          },
          "metadata": {
            "tags": []
          },
          "execution_count": 61
        }
      ]
    },
    {
      "cell_type": "code",
      "metadata": {
        "id": "HWffG_6fKMye",
        "colab_type": "code",
        "colab": {}
      },
      "source": [
        "# Make outliers in data.\n",
        "s[7] = 150\n",
        "s[45] = -145\n",
        "s[90] = 130"
      ],
      "execution_count": 62,
      "outputs": []
    },
    {
      "cell_type": "code",
      "metadata": {
        "id": "zAXWnMyeK1iN",
        "colab_type": "code",
        "colab": {
          "base_uri": "https://localhost:8080/",
          "height": 359
        },
        "outputId": "6d40ac20-27b1-4b6c-8bb3-e9e6da1225cb"
      },
      "source": [
        "df = pd.DataFrame(s, columns=['Data'])\n",
        "df.head(10)"
      ],
      "execution_count": 63,
      "outputs": [
        {
          "output_type": "execute_result",
          "data": {
            "text/html": [
              "<div>\n",
              "<style scoped>\n",
              "    .dataframe tbody tr th:only-of-type {\n",
              "        vertical-align: middle;\n",
              "    }\n",
              "\n",
              "    .dataframe tbody tr th {\n",
              "        vertical-align: top;\n",
              "    }\n",
              "\n",
              "    .dataframe thead th {\n",
              "        text-align: right;\n",
              "    }\n",
              "</style>\n",
              "<table border=\"1\" class=\"dataframe\">\n",
              "  <thead>\n",
              "    <tr style=\"text-align: right;\">\n",
              "      <th></th>\n",
              "      <th>Data</th>\n",
              "    </tr>\n",
              "  </thead>\n",
              "  <tbody>\n",
              "    <tr>\n",
              "      <th>0</th>\n",
              "      <td>17.431414</td>\n",
              "    </tr>\n",
              "    <tr>\n",
              "      <th>1</th>\n",
              "      <td>25.890841</td>\n",
              "    </tr>\n",
              "    <tr>\n",
              "      <th>2</th>\n",
              "      <td>19.290763</td>\n",
              "    </tr>\n",
              "    <tr>\n",
              "      <th>3</th>\n",
              "      <td>26.371919</td>\n",
              "    </tr>\n",
              "    <tr>\n",
              "      <th>4</th>\n",
              "      <td>4.719044</td>\n",
              "    </tr>\n",
              "    <tr>\n",
              "      <th>5</th>\n",
              "      <td>33.933695</td>\n",
              "    </tr>\n",
              "    <tr>\n",
              "      <th>6</th>\n",
              "      <td>19.720752</td>\n",
              "    </tr>\n",
              "    <tr>\n",
              "      <th>7</th>\n",
              "      <td>150.000000</td>\n",
              "    </tr>\n",
              "    <tr>\n",
              "      <th>8</th>\n",
              "      <td>24.972444</td>\n",
              "    </tr>\n",
              "    <tr>\n",
              "      <th>9</th>\n",
              "      <td>20.532097</td>\n",
              "    </tr>\n",
              "  </tbody>\n",
              "</table>\n",
              "</div>"
            ],
            "text/plain": [
              "         Data\n",
              "0   17.431414\n",
              "1   25.890841\n",
              "2   19.290763\n",
              "3   26.371919\n",
              "4    4.719044\n",
              "5   33.933695\n",
              "6   19.720752\n",
              "7  150.000000\n",
              "8   24.972444\n",
              "9   20.532097"
            ]
          },
          "metadata": {
            "tags": []
          },
          "execution_count": 63
        }
      ]
    },
    {
      "cell_type": "code",
      "metadata": {
        "id": "AizAezVrK7ES",
        "colab_type": "code",
        "colab": {}
      },
      "source": [
        "for col in df.columns:\n",
        "    col_zscore = col + '_z-scored'\n",
        "    # df[col_zscore] = (df[col] - df[col].mean())/df[col].std(ddof=0) # z-score\n",
        "    df[col_zscore] = abs((df[col] - df[col].median()))/len(df[col]) # Mean Absolute Deviation (MAD)"
      ],
      "execution_count": 64,
      "outputs": []
    },
    {
      "cell_type": "code",
      "metadata": {
        "id": "JGMZ7eZSA6jQ",
        "colab_type": "code",
        "colab": {
          "base_uri": "https://localhost:8080/",
          "height": 34
        },
        "outputId": "c955cef7-6198-4ce8-908a-f28f1e08d25d"
      },
      "source": [
        "df[col].std(ddof=0)"
      ],
      "execution_count": 65,
      "outputs": [
        {
          "output_type": "execute_result",
          "data": {
            "text/plain": [
              "25.459324956661277"
            ]
          },
          "metadata": {
            "tags": []
          },
          "execution_count": 65
        }
      ]
    },
    {
      "cell_type": "code",
      "metadata": {
        "id": "ju3V8VzoBP1T",
        "colab_type": "code",
        "colab": {
          "base_uri": "https://localhost:8080/",
          "height": 34
        },
        "outputId": "25910727-2a39-46a5-b20c-35f2215b23ed"
      },
      "source": [
        "df[col].std(ddof=1)"
      ],
      "execution_count": 66,
      "outputs": [
        {
          "output_type": "execute_result",
          "data": {
            "text/plain": [
              "25.587584332417183"
            ]
          },
          "metadata": {
            "tags": []
          },
          "execution_count": 66
        }
      ]
    },
    {
      "cell_type": "code",
      "metadata": {
        "id": "syVIkxMF_t9J",
        "colab_type": "code",
        "colab": {
          "base_uri": "https://localhost:8080/",
          "height": 221
        },
        "outputId": "52219bcd-ace9-4061-8122-a23a0c22969e"
      },
      "source": [
        "df[col]"
      ],
      "execution_count": 67,
      "outputs": [
        {
          "output_type": "execute_result",
          "data": {
            "text/plain": [
              "0     17.431414\n",
              "1     25.890841\n",
              "2     19.290763\n",
              "3     26.371919\n",
              "4      4.719044\n",
              "        ...    \n",
              "95    22.606592\n",
              "96    15.455272\n",
              "97    18.953373\n",
              "98    16.590294\n",
              "99     9.602266\n",
              "Name: Data, Length: 100, dtype: float64"
            ]
          },
          "metadata": {
            "tags": []
          },
          "execution_count": 67
        }
      ]
    },
    {
      "cell_type": "code",
      "metadata": {
        "id": "Gxl4YpBzLWmz",
        "colab_type": "code",
        "colab": {}
      },
      "source": [
        "threthold = 1\n",
        "df['outlier'] = (df['Data_z-scored'] > threthold).astype(int)"
      ],
      "execution_count": 68,
      "outputs": []
    },
    {
      "cell_type": "code",
      "metadata": {
        "id": "rCcwzVnzLfwV",
        "colab_type": "code",
        "colab": {
          "base_uri": "https://localhost:8080/",
          "height": 359
        },
        "outputId": "28351854-c815-4684-fa7b-17e20a28b082"
      },
      "source": [
        "df.head(10)"
      ],
      "execution_count": 69,
      "outputs": [
        {
          "output_type": "execute_result",
          "data": {
            "text/html": [
              "<div>\n",
              "<style scoped>\n",
              "    .dataframe tbody tr th:only-of-type {\n",
              "        vertical-align: middle;\n",
              "    }\n",
              "\n",
              "    .dataframe tbody tr th {\n",
              "        vertical-align: top;\n",
              "    }\n",
              "\n",
              "    .dataframe thead th {\n",
              "        text-align: right;\n",
              "    }\n",
              "</style>\n",
              "<table border=\"1\" class=\"dataframe\">\n",
              "  <thead>\n",
              "    <tr style=\"text-align: right;\">\n",
              "      <th></th>\n",
              "      <th>Data</th>\n",
              "      <th>Data_z-scored</th>\n",
              "      <th>outlier</th>\n",
              "    </tr>\n",
              "  </thead>\n",
              "  <tbody>\n",
              "    <tr>\n",
              "      <th>0</th>\n",
              "      <td>17.431414</td>\n",
              "      <td>0.050728</td>\n",
              "      <td>0</td>\n",
              "    </tr>\n",
              "    <tr>\n",
              "      <th>1</th>\n",
              "      <td>25.890841</td>\n",
              "      <td>0.033866</td>\n",
              "      <td>0</td>\n",
              "    </tr>\n",
              "    <tr>\n",
              "      <th>2</th>\n",
              "      <td>19.290763</td>\n",
              "      <td>0.032134</td>\n",
              "      <td>0</td>\n",
              "    </tr>\n",
              "    <tr>\n",
              "      <th>3</th>\n",
              "      <td>26.371919</td>\n",
              "      <td>0.038677</td>\n",
              "      <td>0</td>\n",
              "    </tr>\n",
              "    <tr>\n",
              "      <th>4</th>\n",
              "      <td>4.719044</td>\n",
              "      <td>0.177852</td>\n",
              "      <td>0</td>\n",
              "    </tr>\n",
              "    <tr>\n",
              "      <th>5</th>\n",
              "      <td>33.933695</td>\n",
              "      <td>0.114295</td>\n",
              "      <td>0</td>\n",
              "    </tr>\n",
              "    <tr>\n",
              "      <th>6</th>\n",
              "      <td>19.720752</td>\n",
              "      <td>0.027834</td>\n",
              "      <td>0</td>\n",
              "    </tr>\n",
              "    <tr>\n",
              "      <th>7</th>\n",
              "      <td>150.000000</td>\n",
              "      <td>1.274958</td>\n",
              "      <td>1</td>\n",
              "    </tr>\n",
              "    <tr>\n",
              "      <th>8</th>\n",
              "      <td>24.972444</td>\n",
              "      <td>0.024682</td>\n",
              "      <td>0</td>\n",
              "    </tr>\n",
              "    <tr>\n",
              "      <th>9</th>\n",
              "      <td>20.532097</td>\n",
              "      <td>0.019721</td>\n",
              "      <td>0</td>\n",
              "    </tr>\n",
              "  </tbody>\n",
              "</table>\n",
              "</div>"
            ],
            "text/plain": [
              "         Data  Data_z-scored  outlier\n",
              "0   17.431414       0.050728        0\n",
              "1   25.890841       0.033866        0\n",
              "2   19.290763       0.032134        0\n",
              "3   26.371919       0.038677        0\n",
              "4    4.719044       0.177852        0\n",
              "5   33.933695       0.114295        0\n",
              "6   19.720752       0.027834        0\n",
              "7  150.000000       1.274958        1\n",
              "8   24.972444       0.024682        0\n",
              "9   20.532097       0.019721        0"
            ]
          },
          "metadata": {
            "tags": []
          },
          "execution_count": 69
        }
      ]
    },
    {
      "cell_type": "code",
      "metadata": {
        "id": "sHiJbsPuLmA_",
        "colab_type": "code",
        "colab": {
          "base_uri": "https://localhost:8080/",
          "height": 514
        },
        "outputId": "39384d51-55e7-411b-b8b7-778c82dc7ac0"
      },
      "source": [
        "df.tail(15)"
      ],
      "execution_count": 70,
      "outputs": [
        {
          "output_type": "execute_result",
          "data": {
            "text/html": [
              "<div>\n",
              "<style scoped>\n",
              "    .dataframe tbody tr th:only-of-type {\n",
              "        vertical-align: middle;\n",
              "    }\n",
              "\n",
              "    .dataframe tbody tr th {\n",
              "        vertical-align: top;\n",
              "    }\n",
              "\n",
              "    .dataframe thead th {\n",
              "        text-align: right;\n",
              "    }\n",
              "</style>\n",
              "<table border=\"1\" class=\"dataframe\">\n",
              "  <thead>\n",
              "    <tr style=\"text-align: right;\">\n",
              "      <th></th>\n",
              "      <th>Data</th>\n",
              "      <th>Data_z-scored</th>\n",
              "      <th>outlier</th>\n",
              "    </tr>\n",
              "  </thead>\n",
              "  <tbody>\n",
              "    <tr>\n",
              "      <th>85</th>\n",
              "      <td>13.291409</td>\n",
              "      <td>0.092128</td>\n",
              "      <td>0</td>\n",
              "    </tr>\n",
              "    <tr>\n",
              "      <th>86</th>\n",
              "      <td>32.122233</td>\n",
              "      <td>0.096180</td>\n",
              "      <td>0</td>\n",
              "    </tr>\n",
              "    <tr>\n",
              "      <th>87</th>\n",
              "      <td>18.201747</td>\n",
              "      <td>0.043025</td>\n",
              "      <td>0</td>\n",
              "    </tr>\n",
              "    <tr>\n",
              "      <th>88</th>\n",
              "      <td>10.482638</td>\n",
              "      <td>0.120216</td>\n",
              "      <td>0</td>\n",
              "    </tr>\n",
              "    <tr>\n",
              "      <th>89</th>\n",
              "      <td>34.928320</td>\n",
              "      <td>0.124241</td>\n",
              "      <td>0</td>\n",
              "    </tr>\n",
              "    <tr>\n",
              "      <th>90</th>\n",
              "      <td>130.000000</td>\n",
              "      <td>1.074958</td>\n",
              "      <td>1</td>\n",
              "    </tr>\n",
              "    <tr>\n",
              "      <th>91</th>\n",
              "      <td>29.022560</td>\n",
              "      <td>0.065184</td>\n",
              "      <td>0</td>\n",
              "    </tr>\n",
              "    <tr>\n",
              "      <th>92</th>\n",
              "      <td>26.880449</td>\n",
              "      <td>0.043762</td>\n",
              "      <td>0</td>\n",
              "    </tr>\n",
              "    <tr>\n",
              "      <th>93</th>\n",
              "      <td>4.291727</td>\n",
              "      <td>0.182125</td>\n",
              "      <td>0</td>\n",
              "    </tr>\n",
              "    <tr>\n",
              "      <th>94</th>\n",
              "      <td>8.935317</td>\n",
              "      <td>0.135689</td>\n",
              "      <td>0</td>\n",
              "    </tr>\n",
              "    <tr>\n",
              "      <th>95</th>\n",
              "      <td>22.606592</td>\n",
              "      <td>0.001024</td>\n",
              "      <td>0</td>\n",
              "    </tr>\n",
              "    <tr>\n",
              "      <th>96</th>\n",
              "      <td>15.455272</td>\n",
              "      <td>0.070489</td>\n",
              "      <td>0</td>\n",
              "    </tr>\n",
              "    <tr>\n",
              "      <th>97</th>\n",
              "      <td>18.953373</td>\n",
              "      <td>0.035508</td>\n",
              "      <td>0</td>\n",
              "    </tr>\n",
              "    <tr>\n",
              "      <th>98</th>\n",
              "      <td>16.590294</td>\n",
              "      <td>0.059139</td>\n",
              "      <td>0</td>\n",
              "    </tr>\n",
              "    <tr>\n",
              "      <th>99</th>\n",
              "      <td>9.602266</td>\n",
              "      <td>0.129019</td>\n",
              "      <td>0</td>\n",
              "    </tr>\n",
              "  </tbody>\n",
              "</table>\n",
              "</div>"
            ],
            "text/plain": [
              "          Data  Data_z-scored  outlier\n",
              "85   13.291409       0.092128        0\n",
              "86   32.122233       0.096180        0\n",
              "87   18.201747       0.043025        0\n",
              "88   10.482638       0.120216        0\n",
              "89   34.928320       0.124241        0\n",
              "90  130.000000       1.074958        1\n",
              "91   29.022560       0.065184        0\n",
              "92   26.880449       0.043762        0\n",
              "93    4.291727       0.182125        0\n",
              "94    8.935317       0.135689        0\n",
              "95   22.606592       0.001024        0\n",
              "96   15.455272       0.070489        0\n",
              "97   18.953373       0.035508        0\n",
              "98   16.590294       0.059139        0\n",
              "99    9.602266       0.129019        0"
            ]
          },
          "metadata": {
            "tags": []
          },
          "execution_count": 70
        }
      ]
    },
    {
      "cell_type": "code",
      "metadata": {
        "id": "E9gAuIoLMiIO",
        "colab_type": "code",
        "colab": {
          "base_uri": "https://localhost:8080/",
          "height": 68
        },
        "outputId": "cab354c2-5f94-4473-e19a-9d49168f4af8"
      },
      "source": [
        "df.outlier.value_counts()"
      ],
      "execution_count": 71,
      "outputs": [
        {
          "output_type": "execute_result",
          "data": {
            "text/plain": [
              "0    97\n",
              "1     3\n",
              "Name: outlier, dtype: int64"
            ]
          },
          "metadata": {
            "tags": []
          },
          "execution_count": 71
        }
      ]
    },
    {
      "cell_type": "code",
      "metadata": {
        "id": "wWxFOhc8MFcy",
        "colab_type": "code",
        "colab": {
          "base_uri": "https://localhost:8080/",
          "height": 34
        },
        "outputId": "2ce4b012-285c-4fc3-e3af-bea9f43c751e"
      },
      "source": [
        "print (\"Number of outliers in data = \" + str(df.outlier.value_counts()[1]))"
      ],
      "execution_count": 72,
      "outputs": [
        {
          "output_type": "stream",
          "text": [
            "Number of outliers in data = 3\n"
          ],
          "name": "stdout"
        }
      ]
    },
    {
      "cell_type": "code",
      "metadata": {
        "id": "147vI-UgMkdm",
        "colab_type": "code",
        "colab": {}
      },
      "source": [
        ""
      ],
      "execution_count": 72,
      "outputs": []
    }
  ]
}