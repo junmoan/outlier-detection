{
  "nbformat": 4,
  "nbformat_minor": 0,
  "metadata": {
    "colab": {
      "name": "Outlier_Detection_DBSCAN.ipynb",
      "provenance": [],
      "collapsed_sections": []
    },
    "kernelspec": {
      "name": "python3",
      "display_name": "Python 3"
    }
  },
  "cells": [
    {
      "cell_type": "code",
      "metadata": {
        "id": "LWAggCTRLYYs",
        "colab_type": "code",
        "colab": {}
      },
      "source": [
        "# Import the machine learning libraries.\n",
        "import numpy as np\n",
        "import matplotlib.pyplot as plt"
      ],
      "execution_count": 29,
      "outputs": []
    },
    {
      "cell_type": "code",
      "metadata": {
        "id": "gjBTIoZkLHVl",
        "colab_type": "code",
        "colab": {
          "base_uri": "https://localhost:8080/",
          "height": 34
        },
        "outputId": "4163f381-8fed-4e82-9025-5724a7e61322"
      },
      "source": [
        "from sklearn.cluster import DBSCAN\n",
        "\n",
        "np.random.seed(6)\n",
        "\n",
        "random_data = np.random.randn(50000,2)  * 20 + 20\n",
        "\n",
        "outlier_detection = DBSCAN(min_samples = 2, eps = 3)\n",
        "clusters = outlier_detection.fit_predict(random_data)\n",
        "list(clusters).count(-1)"
      ],
      "execution_count": 30,
      "outputs": [
        {
          "output_type": "execute_result",
          "data": {
            "text/plain": [
              "97"
            ]
          },
          "metadata": {
            "tags": []
          },
          "execution_count": 30
        }
      ]
    },
    {
      "cell_type": "code",
      "metadata": {
        "id": "DIWFgEaVLPIl",
        "colab_type": "code",
        "colab": {
          "base_uri": "https://localhost:8080/",
          "height": 136
        },
        "outputId": "d070baa6-c425-42b3-89a6-dd548c3cf731"
      },
      "source": [
        "random_data"
      ],
      "execution_count": 31,
      "outputs": [
        {
          "output_type": "execute_result",
          "data": {
            "text/plain": [
              "array([[ 13.76432653,  34.58007847],\n",
              "       [ 24.35641576,   2.01816407],\n",
              "       [-29.73561303,  38.26503042],\n",
              "       ...,\n",
              "       [ 26.7480009 ,  36.31356684],\n",
              "       [ 57.85814818,  37.69646768],\n",
              "       [ 62.01151724,  23.54523239]])"
            ]
          },
          "metadata": {
            "tags": []
          },
          "execution_count": 31
        }
      ]
    },
    {
      "cell_type": "code",
      "metadata": {
        "id": "z-AxyXGaLkjQ",
        "colab_type": "code",
        "colab": {
          "base_uri": "https://localhost:8080/",
          "height": 34
        },
        "outputId": "2c01c9bb-3bf0-49cc-9c6b-843af11cc461"
      },
      "source": [
        "random_data.shape"
      ],
      "execution_count": 32,
      "outputs": [
        {
          "output_type": "execute_result",
          "data": {
            "text/plain": [
              "(50000, 2)"
            ]
          },
          "metadata": {
            "tags": []
          },
          "execution_count": 32
        }
      ]
    },
    {
      "cell_type": "code",
      "metadata": {
        "id": "xqTmlbPkLn3y",
        "colab_type": "code",
        "colab": {
          "base_uri": "https://localhost:8080/",
          "height": 34
        },
        "outputId": "5dc2f7fb-c5c3-4010-cd02-7b107ece1afa"
      },
      "source": [
        "clusters"
      ],
      "execution_count": 33,
      "outputs": [
        {
          "output_type": "execute_result",
          "data": {
            "text/plain": [
              "array([0, 0, 0, ..., 0, 0, 0])"
            ]
          },
          "metadata": {
            "tags": []
          },
          "execution_count": 33
        }
      ]
    },
    {
      "cell_type": "code",
      "metadata": {
        "id": "hirr3KEcLvR9",
        "colab_type": "code",
        "colab": {
          "base_uri": "https://localhost:8080/",
          "height": 382
        },
        "outputId": "033e55fb-92c5-4ad9-fbdd-520926acbc0a"
      },
      "source": [
        "plt.figure(figsize=(6, 6))\n",
        "plt.scatter(random_data[:,0], random_data[:,1], c='k')\n",
        "plt.rc('font', size=18) \n",
        "plt.show()"
      ],
      "execution_count": 34,
      "outputs": [
        {
          "output_type": "display_data",
          "data": {
            "image/png": "[encoded data removed]",
            "text/plain": [
              "<Figure size 432x432 with 1 Axes>"
            ]
          },
          "metadata": {
            "tags": [],
            "needs_background": "light"
          }
        }
      ]
    },
    {
      "cell_type": "code",
      "metadata": {
        "id": "XLMTmhFeMMFN",
        "colab_type": "code",
        "colab": {
          "base_uri": "https://localhost:8080/",
          "height": 34
        },
        "outputId": "582308f7-5003-4953-94b7-859d8c3abb9d"
      },
      "source": [
        "index = np.argsort(clusters)\n",
        "index"
      ],
      "execution_count": 35,
      "outputs": [
        {
          "output_type": "execute_result",
          "data": {
            "text/plain": [
              "array([30000, 16009, 26693, ..., 36902, 41193, 40062])"
            ]
          },
          "metadata": {
            "tags": []
          },
          "execution_count": 35
        }
      ]
    },
    {
      "cell_type": "code",
      "metadata": {
        "id": "f7IquMZozP_1",
        "colab_type": "code",
        "colab": {
          "base_uri": "https://localhost:8080/",
          "height": 382
        },
        "outputId": "10429ab1-6446-4a42-f84b-d2cc2345364a"
      },
      "source": [
        "plt.figure(figsize=(6, 6))\n",
        "for i in set(clusters):\n",
        "    if i == -1: \n",
        "        #outlier according to dbscan\n",
        "        dbscan_outlier = plt.scatter(random_data[clusters==i, 0], random_data[clusters==i, 1], c='r')\n",
        "    else:\n",
        "        dbscan_inlier = plt.scatter(random_data[clusters==i, 0], random_data[clusters==i, 1], c='b')\n",
        "plt.legend((dbscan_outlier,dbscan_inlier),('DBSCAN Outlier', 'DBSCAN Inlier'),scatterpoints=1, loc='lower right', ncol=3, fontsize=12)\n",
        "plt.show()"
      ],
      "execution_count": 36,
      "outputs": [
        {
          "output_type": "display_data",
          "data": {
            "image/png": "[encoded data removed]",
            "text/plain": [
              "<Figure size 432x432 with 1 Axes>"
            ]
          },
          "metadata": {
            "tags": [],
            "needs_background": "light"
          }
        }
      ]
    },
    {
      "cell_type": "code",
      "metadata": {
        "id": "CBBV49B3zuAT",
        "colab_type": "code",
        "colab": {}
      },
      "source": [
        ""
      ],
      "execution_count": 36,
      "outputs": []
    }
  ]
}